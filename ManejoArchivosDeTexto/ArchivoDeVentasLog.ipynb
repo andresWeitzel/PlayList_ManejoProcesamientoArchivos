{
 "cells": [
  {
   "cell_type": "code",
   "execution_count": 17,
   "metadata": {},
   "outputs": [],
   "source": [
    "'''\n",
    "Efientizamos codigo con la variable path y utilizamos la funcion with para\n",
    "no dejar abierto el archivo\n",
    "'''\n",
    "\n",
    "import logging\n",
    "from datetime import datetime\n",
    "\n",
    "path=\"C:/Users/andre/OneDrive/Escritorio/ArchivosPython/Ventas/TestVentas2021_Log.txt\"\n",
    "\n",
    "with open(path,'r+') as archivo:\n",
    "\n",
    "    logging.basicConfig(handlers=[logging.FileHandler(filename=path,\n",
    "                                                  encoding='utf-8',mode='a+')],\n",
    "                   format=\"%(asctime)s %(name)s:%(levelname)s:%(message)s\",\n",
    "                   datefmt=\"%d-%m-%Y %H:%M:%S %p\",\n",
    "                   level=logging.DEBUG\n",
    "                   )\n",
    "    \n",
    "    \n",
    "'''\n",
    "    logging.debug('Este mensaje es para DEBUG')\n",
    "    logging.info('Este mensaje es para INFO')\n",
    "    logging.warning('Este mensaje es para ADVERTENCIA')\n",
    "    logging.error('Este mensaje es un ERROR')\n",
    "'''\n",
    "'''\n",
    "Y si queremos trabajar los mensajes de logs?? Vamos a los ejemplos con operaciones\n",
    "aritmeticas sencillas\n",
    "'''\n",
    "\n",
    "\n"
   ]
  },
  {
   "cell_type": "code",
   "execution_count": 18,
   "metadata": {},
   "outputs": [
    {
     "name": "stdout",
     "output_type": "stream",
     "text": [
      "division by zero\n"
     ]
    }
   ],
   "source": [
    "'''\n",
    "En este caso capturamos excepciones especificas en python y lo imprimimos \n",
    "en el archivo Log y consola\n",
    "'''\n",
    "try:\n",
    "    solucion=2/0\n",
    "    print(solucion)\n",
    "except ZeroDivisionError as error:\n",
    "    print(error)\n",
    "    logging.error(error)\n"
   ]
  },
  {
   "cell_type": "code",
   "execution_count": null,
   "metadata": {},
   "outputs": [],
   "source": []
  },
  {
   "cell_type": "code",
   "execution_count": 20,
   "metadata": {},
   "outputs": [
    {
     "name": "stdout",
     "output_type": "stream",
     "text": [
      "division by zero\n"
     ]
    }
   ],
   "source": [
    "'''\n",
    "En este caso capturamos excepciones Genericas  en python y lo imprimimos\n",
    "en el archivo Log y consola\n",
    "'''\n",
    "try:\n",
    "    solucion=2/0\n",
    "    print(solucion)\n",
    "except Exception as ex:\n",
    "    print(ex)\n",
    "    logging.error(ex)\n"
   ]
  },
  {
   "cell_type": "code",
   "execution_count": null,
   "metadata": {},
   "outputs": [],
   "source": []
  },
  {
   "cell_type": "code",
   "execution_count": 29,
   "metadata": {},
   "outputs": [
    {
     "name": "stdout",
     "output_type": "stream",
     "text": [
      "6\n",
      "division by zero\n",
      "--------Se finaliza la Operación----------\n"
     ]
    }
   ],
   "source": [
    "'''\n",
    "En este caso generamos varios logs junto con excepciones y lo\n",
    "imprimimos en el archivo y consola\n",
    "'''\n",
    "try:\n",
    "    operacion01=2*3\n",
    "    logging.info(\"Se ha realizado la siguiente Operacion: \" + str(operacion01))\n",
    "    print(operacion01)\n",
    "    \n",
    "    operacion02=2/0\n",
    "    logging.info('Se ha realizado la siguiente Operacion: ' + str(operacion02))\n",
    "    print(operacion02)\n",
    "    \n",
    "    operacion03=2+hola\n",
    "    logging.info('Se ha realizado la siguiente Operacion: ' + str(operacion03))\n",
    "    print(operacion03)\n",
    "    \n",
    "\n",
    "except Exception as ex:\n",
    "    print(ex)\n",
    "    logging.error('Se ha producido un error: ' + str(ex))\n",
    "    \n",
    "    \n",
    "finally:\n",
    "    msj=\"--------Se finaliza la Operación----------\"\n",
    "    logging.debug(msj)\n",
    "    print(msj)\n",
    "    \n",
    "    "
   ]
  },
  {
   "cell_type": "code",
   "execution_count": null,
   "metadata": {},
   "outputs": [],
   "source": []
  }
 ],
 "metadata": {
  "kernelspec": {
   "display_name": "Python 3",
   "language": "python",
   "name": "python3"
  },
  "language_info": {
   "codemirror_mode": {
    "name": "ipython",
    "version": 3
   },
   "file_extension": ".py",
   "mimetype": "text/x-python",
   "name": "python",
   "nbconvert_exporter": "python",
   "pygments_lexer": "ipython3",
   "version": "3.8.3"
  }
 },
 "nbformat": 4,
 "nbformat_minor": 4
}
